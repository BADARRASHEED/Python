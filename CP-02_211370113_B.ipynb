{
 "cells": [
  {
   "cell_type": "markdown",
   "id": "675d9b1c-e94b-49b5-aaa2-991317cac9e6",
   "metadata": {},
   "source": [
    "# Q - 01"
   ]
  },
  {
   "cell_type": "code",
   "execution_count": 1,
   "id": "f408c6ca-15d5-417a-8f1f-ae2e187e3cc1",
   "metadata": {},
   "outputs": [
    {
     "name": "stdout",
     "output_type": "stream",
     "text": [
      "The weight of the object is 147.0 newtons.\n",
      "The object's weight is normal.\n"
     ]
    }
   ],
   "source": [
    "def calculate_weight():\n",
    "    mass = float(input(\"Enter the mass of the object in kilograms: \"))\n",
    "    # weight's formula\n",
    "    weight = mass*9.8\n",
    "\n",
    "    # displaying weight\n",
    "    print(f\"The weight of the object is {weight} newtons.\")\n",
    "\n",
    "    # conditions for heavy or light\n",
    "    print(\"The object is too heavy.\") if weight > 500 else print(\"The object is too light.\") if weight <100 else print(\"The object's weight is normal.\")\n",
    "\n",
    "calculate_weight()"
   ]
  },
  {
   "cell_type": "markdown",
   "id": "adde1c7c-e5b7-4a32-b628-ce6e28a6d0ec",
   "metadata": {},
   "source": [
    "# Q - 02"
   ]
  },
  {
   "cell_type": "code",
   "execution_count": 11,
   "id": "deb268be-9874-430d-9c90-0e8ce59c92fb",
   "metadata": {},
   "outputs": [
    {
     "name": "stdin",
     "output_type": "stream",
     "text": [
      "Enter the number of people attending the cookout:  10\n",
      "Enter the number of hot dogs each person will be given:  2\n"
     ]
    },
    {
     "name": "stdout",
     "output_type": "stream",
     "text": [
      "The minimum number of packages of hot dogs required: 2\n",
      "The minimum number of packages of hot dog buns required: 3\n",
      "The number of hot dogs that will be left: 0\n",
      "The number of hot dog buns that will be left: 4\n"
     ]
    }
   ],
   "source": [
    "import math\n",
    "\n",
    "def cookout_calculator():\n",
    "    num_people = int(input(\"Enter the number of people attending the cookout: \"))\n",
    "    hot_dogs_per_person = int(input(\"Enter the number of hot dogs each person will be given: \"))\n",
    "\n",
    "    # total hot dogs needed\n",
    "    total_hot_dogs = num_people*hot_dogs_per_person\n",
    "\n",
    "    # total packages needed\n",
    "    hot_dog_packages = math.ceil(total_hot_dogs/10)\n",
    "    bun_packages = math.ceil(total_hot_dogs/8)\n",
    "\n",
    "    # leftovers\n",
    "    hot_dogs_left = (hot_dog_packages*10) - total_hot_dogs\n",
    "    buns_left = (bun_packages*8) - total_hot_dogs\n",
    "\n",
    "    # result\n",
    "    print(f\"The minimum number of packages of hot dogs required: {hot_dog_packages}\\nThe minimum number of packages of hot dog buns required: {bun_packages}\\nThe number of hot dogs that will be left: {hot_dogs_left}\\nThe number of hot dog buns that will be left: {buns_left}\")\n",
    "\n",
    "cookout_calculator()"
   ]
  },
  {
   "cell_type": "markdown",
   "id": "ff178a60-8d96-4fdf-994a-b23c5601a5fb",
   "metadata": {},
   "source": [
    "# Q - 03"
   ]
  },
  {
   "cell_type": "code",
   "execution_count": 14,
   "id": "c1e38f74-8dc0-4c3e-9a62-6abb64d759ef",
   "metadata": {
    "scrolled": true
   },
   "outputs": [
    {
     "name": "stdin",
     "output_type": "stream",
     "text": [
      "Enter the gallons used (-1 to end):  12\n",
      "Enter the miles driven:  12\n"
     ]
    },
    {
     "name": "stdout",
     "output_type": "stream",
     "text": [
      "The miles/gallon for this tank was 1.000000\n"
     ]
    },
    {
     "name": "stdin",
     "output_type": "stream",
     "text": [
      "Enter the gallons used (-1 to end):  24\n",
      "Enter the miles driven:  12\n"
     ]
    },
    {
     "name": "stdout",
     "output_type": "stream",
     "text": [
      "The miles/gallon for this tank was 0.500000\n"
     ]
    },
    {
     "name": "stdin",
     "output_type": "stream",
     "text": [
      "Enter the gallons used (-1 to end):  -1\n"
     ]
    },
    {
     "name": "stdout",
     "output_type": "stream",
     "text": [
      "The overall average miles/gallon was 0.666667\n"
     ]
    }
   ],
   "source": [
    "def calculate_mpg():\n",
    "    total_miles = 0\n",
    "    total_gallons = 0\n",
    "\n",
    "    while True:\n",
    "        gallons = float(input(\"Enter the gallons used (-1 to end): \"))\n",
    "        if gallons == -1:\n",
    "            break\n",
    "        \n",
    "        miles = float(input(\"Enter the miles driven: \"))\n",
    "        \n",
    "        # miles per gallon for this tankful\n",
    "        mpg = miles / gallons\n",
    "        print(f\"The miles/gallon for this tank was {mpg:.6f}\")\n",
    "        \n",
    "        # Add to total miles and total gallons\n",
    "        total_miles += miles\n",
    "        total_gallons += gallons\n",
    "\n",
    "    # combined miles per gallon\n",
    "    if total_gallons != 0:\n",
    "        total_mpg = total_miles / total_gallons\n",
    "        print(f\"The overall average miles/gallon was {total_mpg:.6f}\")\n",
    "    else:\n",
    "        print(\"No data to calculate total miles per gallon.\")\n",
    "\n",
    "calculate_mpg()"
   ]
  },
  {
   "cell_type": "markdown",
   "id": "76cba861-b418-48c4-9121-81171b666d82",
   "metadata": {},
   "source": [
    "# Q - 04"
   ]
  },
  {
   "cell_type": "code",
   "execution_count": 18,
   "id": "4ad8c602-ae55-400e-9d02-63229ddd2a10",
   "metadata": {
    "scrolled": true
   },
   "outputs": [
    {
     "name": "stdin",
     "output_type": "stream",
     "text": [
      "Enter the number of packages purchased:  10\n"
     ]
    },
    {
     "name": "stdout",
     "output_type": "stream",
     "text": [
      "The discount is: $99.00\n",
      "The total amount of the purchase after the discount is: $891.00\n"
     ]
    }
   ],
   "source": [
    "def discount_and_total_calculator():\n",
    "    PACKAGE_PRICE = 99\n",
    "    \n",
    "    num_packages = int(input(\"Enter the number of packages purchased: \"))\n",
    "    \n",
    "    # determine the discount percentage\n",
    "    if num_packages >= 100:\n",
    "        discount_percent = 0.4\n",
    "    elif num_packages >= 50:\n",
    "        discount_percent = 0.3\n",
    "    elif num_packages >= 20:\n",
    "        discount_percent = 0.2\n",
    "    elif num_packages >= 10:\n",
    "        discount_percent = 0.1\n",
    "    else:\n",
    "        discount_percent = 0.0\n",
    "    \n",
    "    # discount amount\n",
    "    discount_amount = PACKAGE_PRICE * num_packages * discount_percent\n",
    "    \n",
    "    # total amount after discount\n",
    "    total_amount = (PACKAGE_PRICE * num_packages) - discount_amount\n",
    "    \n",
    "    # discount amount and total amount\n",
    "    print(f\"The discount is: ${discount_amount:.2f}\")\n",
    "    print(f\"The total amount of the purchase after the discount is: ${total_amount:.2f}\")\n",
    "\n",
    "discount_and_total_calculator()"
   ]
  },
  {
   "cell_type": "markdown",
   "id": "b69cb46c-5d36-488d-b31e-2e0f853027e7",
   "metadata": {},
   "source": [
    "# Q - 05"
   ]
  },
  {
   "cell_type": "code",
   "execution_count": 2,
   "id": "d85fe9a8-7ff5-46c4-9924-363456b744fb",
   "metadata": {},
   "outputs": [
    {
     "name": "stdin",
     "output_type": "stream",
     "text": [
      "Enter the weight of the package in pounds:  qwq\n"
     ]
    },
    {
     "name": "stdout",
     "output_type": "stream",
     "text": [
      "Invalid input. Please enter a numerical value for the weight.\n"
     ]
    }
   ],
   "source": [
    "def calculate_shipping_charges():\n",
    "    try:\n",
    "        weight = float(input(\"Enter the weight of the package in pounds: \"))\n",
    "        if weight <= 0:\n",
    "            print(\"Weight must be greater than zero.\")\n",
    "        else:\n",
    "            if weight <= 2:\n",
    "                rate = 1.50\n",
    "            elif weight <= 6:\n",
    "                rate = 3.00\n",
    "            elif weight <= 10:\n",
    "                rate = 4.00\n",
    "            else:\n",
    "                rate = 4.75\n",
    "\n",
    "            # calculating charges\n",
    "            charges = weight * rate\n",
    "            print(f\"The shipping charges for a package weighing {weight} pounds is ${charges:.2f}\")\n",
    "            \n",
    "    except ValueError:\n",
    "        print(\"Invalid input. Please enter a numerical value for the weight.\")\n",
    "\n",
    "calculate_shipping_charges()"
   ]
  },
  {
   "cell_type": "markdown",
   "id": "e45fa7b9-8a0d-4f76-8c57-cc735a27c4e1",
   "metadata": {},
   "source": [
    "# Q - 06"
   ]
  },
  {
   "cell_type": "code",
   "execution_count": 16,
   "id": "72514a6e-0f16-4e76-a4ce-a1038f29791a",
   "metadata": {},
   "outputs": [
    {
     "name": "stdin",
     "output_type": "stream",
     "text": [
      "Enter your weight in pounds:  140\n",
      "Enter your height in inches:  70\n"
     ]
    },
    {
     "name": "stdout",
     "output_type": "stream",
     "text": [
      "Your BMI is 20.09. Your weight is optimal.\n"
     ]
    }
   ],
   "source": [
    "def calculate_bmi():\n",
    "    try:\n",
    "        weight = float(input(\"Enter your weight in pounds: \"))\n",
    "        height = float(input(\"Enter your height in inches: \"))\n",
    "\n",
    "        if weight <= 0 or height <= 0:\n",
    "            print(\"Weight and height must be positive numbers.\")\n",
    "        else:\n",
    "            \n",
    "            # calculating bmi\n",
    "            bmi = (weight * 703) / (height ** 2)\n",
    "\n",
    "            if bmi < 18.5:\n",
    "                print(f\"Your BMI is {bmi:.2f}. You are underweight.\")\n",
    "            elif 18.5 <= bmi <= 25:\n",
    "                print(f\"Your BMI is {bmi:.2f}. Your weight is optimal.\")\n",
    "            else:\n",
    "                print(f\"Your BMI is {bmi:.2f}. You are overweight.\")\n",
    "    except ValueError:\n",
    "        print(\"Invalid input. Please enter numerical values for weight and height.\")\n",
    "\n",
    "calculate_bmi()"
   ]
  },
  {
   "cell_type": "code",
   "execution_count": null,
   "id": "19cdaffc-f0e4-40f3-a654-e9021fbe2360",
   "metadata": {},
   "outputs": [],
   "source": []
  }
 ],
 "metadata": {
  "kernelspec": {
   "display_name": "Python 3 (ipykernel)",
   "language": "python",
   "name": "python3"
  },
  "language_info": {
   "codemirror_mode": {
    "name": "ipython",
    "version": 3
   },
   "file_extension": ".py",
   "mimetype": "text/x-python",
   "name": "python",
   "nbconvert_exporter": "python",
   "pygments_lexer": "ipython3",
   "version": "3.12.3"
  }
 },
 "nbformat": 4,
 "nbformat_minor": 5
}
