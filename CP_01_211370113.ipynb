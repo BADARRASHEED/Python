{
 "cells": [
  {
   "cell_type": "markdown",
   "id": "37d39645",
   "metadata": {},
   "source": [
    "## Python"
   ]
  },
  {
   "cell_type": "markdown",
   "id": "c0ab1e6c",
   "metadata": {},
   "source": [
    "## Exercise - 1.1"
   ]
  },
  {
   "cell_type": "code",
   "execution_count": 1,
   "id": "d0050573",
   "metadata": {},
   "outputs": [
    {
     "name": "stdin",
     "output_type": "stream",
     "text": [
      "Enter your amount:  100\n"
     ]
    },
    {
     "name": "stdout",
     "output_type": "stream",
     "text": [
      "Your purchase amount is: 100\n",
      "State tax is: 5.0\n",
      "County tax is: 2.5\n",
      "Total tax is: 7.5\n"
     ]
    }
   ],
   "source": [
    "'''\n",
    "\n",
    "Implement a program that will ask the user to enter the amount of a\n",
    "purchase. The program should then compute the state and country sales tax.\n",
    "Assume the state sales tax is 5 percent and the county sales tax is 2.5\n",
    "percent. The program should demonstrate the following: * The amount of\n",
    "the purchase * The state sales tax * The county sales tax * The total sales tax\n",
    "* and the total of the sale (which is the sum of the amount of purchase plus\n",
    "the total sales tax).\n",
    "\n",
    "'''\n",
    "\n",
    "amount = int(input(\"Enter your amount: \"))\n",
    "state_tax = amount*0.05\n",
    "county_tax = amount*0.025\n",
    "total_tax = state_tax+county_tax\n",
    "\n",
    "print(f\"Your purchase amount is: {amount}\")\n",
    "print(f\"State tax is: {state_tax}\")\n",
    "print(f\"County tax is: {county_tax}\")\n",
    "print(f\"Total tax is: {total_tax}\")"
   ]
  },
  {
   "cell_type": "markdown",
   "id": "d18429a2",
   "metadata": {},
   "source": [
    "## Exercise - 1.2"
   ]
  },
  {
   "cell_type": "code",
   "execution_count": 7,
   "id": "e40c1a6e",
   "metadata": {},
   "outputs": [
    {
     "name": "stdout",
     "output_type": "stream",
     "text": [
      "Cost of your food: 100\n",
      "Cost of your food: 100\n",
      "Tip: 18.00\n",
      "Sales tax: 7.00\n",
      "Total Amount: 125.00\n"
     ]
    }
   ],
   "source": [
    "'''\n",
    "\n",
    "Implement a program that calculates the total amount of a meal purchased at\n",
    "a restaurant. The program should ask the user to enter the charge for the\n",
    "food, and then calculate the amount of a 18 percent tip and 7 percent sales\n",
    "tax. Demonstrate each of these amounts and the total.\n",
    "\n",
    "'''\n",
    "\n",
    "cost_of_food = int(input(\"Cost of your food: \"))\n",
    "\n",
    "tip = cost_of_food*0.18\n",
    "sales_tax = cost_of_food*0.07\n",
    "\n",
    "total = cost_of_food+tip+sales_tax\n",
    "\n",
    "print(f\"Cost of your food: {cost_of_food}\")\n",
    "print(f\"Tip: {tip:.2f}\")\n",
    "print(f\"Sales tax: {sales_tax:.2f}\")\n",
    "print(f\"Total Amount: {total:.2f}\")"
   ]
  },
  {
   "cell_type": "markdown",
   "id": "4e85f225",
   "metadata": {},
   "source": [
    "## Exercise - 1.3"
   ]
  },
  {
   "cell_type": "code",
   "execution_count": 17,
   "id": "d3ee7793",
   "metadata": {},
   "outputs": [
    {
     "name": "stdout",
     "output_type": "stream",
     "text": [
      "How many cookies you want to make: 48\n",
      "Ingredients Required:\n",
      "1.50 cups of sugar\n",
      " 1.00 cups of butter\n",
      " 2.75 cups of flour\n"
     ]
    }
   ],
   "source": [
    "'''\n",
    "\n",
    "A cookie recipe calls for the following ingredients: * 1.5 cups of sugar * 1\n",
    "cup of butter * 2.75 cups of flour. The recipe produces 48 cookies with this\n",
    "amount of the ingredients. Implement a program that asks the user how\n",
    "many cookies he or she wants to make, and then demonstrate the number of\n",
    "cups of each ingredient needed for the specified number of cookies.\n",
    "\n",
    "'''\n",
    "\n",
    "sugar_per_cookie = 1.5/48\n",
    "butter_per_cookie = 1/48\n",
    "flour_per_cookie = 2.75/48\n",
    "\n",
    "num_cookies = int(input(\"How many cookies you want to make: \"))\n",
    "\n",
    "sugar_required = sugar_per_cookie*num_cookies\n",
    "butter_required = butter_per_cookie*num_cookies\n",
    "flour_required = flour_per_cookie*num_cookies\n",
    "\n",
    "print(f\"Ingredients Required:\")\n",
    "print(f\"{sugar_required:.2f} cups of sugar\\n {butter_required:.2f} cups of butter\\n {flour_required:.2f} cups of flour\")"
   ]
  },
  {
   "cell_type": "markdown",
   "id": "c25410a2",
   "metadata": {},
   "source": [
    "## Exercise - 1.4"
   ]
  },
  {
   "cell_type": "code",
   "execution_count": 10,
   "id": "4ea4cfc1",
   "metadata": {
    "scrolled": true
   },
   "outputs": [
    {
     "name": "stdout",
     "output_type": "stream",
     "text": [
      "Number of Males: 90\n",
      "Number of Females: 10\n",
      "Total amount of Students: 100\n",
      "Percentage of Males: 90.0\n",
      "Percentage of females: 10.0\n"
     ]
    }
   ],
   "source": [
    "'''\n",
    "\n",
    "Implement a program that asks the user for the number of males and the\n",
    "number of females registered in a class. The program should demonstrate the\n",
    "percentage of males and females in the class. Hint: Suppose there are 8\n",
    "males and 12 females in a class. There are 20 students in the class. The\n",
    "percentage of males can be calculated as 8 4 20 5 0.4, or 40%. The\n",
    "percentage of females can be calculated as 12 4 20 5 0.6, or 60%.\n",
    "\n",
    "'''\n",
    "\n",
    "males = int(input(\"Number of Males: \"))\n",
    "females = int(input(\"Number of Females: \"))\n",
    "\n",
    "total = males+females\n",
    "percentage_of_males = (males/total)*100\n",
    "percentage_of_females = (females/total)*100\n",
    "\n",
    "print(f\"Total amount of Students: {total}\")\n",
    "print(f\"Percentage of Males: {percentage_of_males}\")\n",
    "print(f\"Percentage of females: {percentage_of_females}\")"
   ]
  },
  {
   "cell_type": "markdown",
   "id": "f15c9623",
   "metadata": {},
   "source": [
    "## Exercise - 1.5"
   ]
  },
  {
   "cell_type": "code",
   "execution_count": 8,
   "id": "ab2a1eca",
   "metadata": {},
   "outputs": [
    {
     "name": "stdout",
     "output_type": "stream",
     "text": [
      "Amount paid for stock: 80000\n",
      "Amount of commission paid when buy: 2400.0\n",
      "Amount get for stock: 85500.0\n",
      "Amount of commission paid when sell: 165.0\n",
      "Your profit is: Rs 5335.0\n"
     ]
    }
   ],
   "source": [
    "'''\n",
    "\n",
    "Last month Joe purchased some stock in Acme Software, Inc.\n",
    "Here are the details of the purchase:\n",
    "The number of shares that Joe purchased was 2,000. * When Joe purchased\n",
    "the stock, he paid 40.00 Dollar per share. * Joe paid his stockbroker a\n",
    "commission that amounted to 3 percent of the amount he paid for the stock.\n",
    "Two weeks later Joe sold the stock. Here are the details of the sale: * The\n",
    "number of shares that Joe sold was 2,000. * He sold the stock for 42.75\n",
    "Dollar per share. * He paid his stockbroker another commission that\n",
    "amounted to 3 percent of the amount he received for the stock.\n",
    "Implement a program that demonstrate the following information: * The\n",
    "amount of money Joe paid for the stock. * The amount of commission Joe\n",
    "paid his broker when he bought the stock. * The amount that Joe sold the\n",
    "stock for. * The amount of commission Joe paid his broker when he sold the\n",
    "stock. * Demonstrate the amount of money that Joe had left when he sold the\n",
    "stock and paid his broker (both times). If this amount is positive, then Joe\n",
    "made a profit. If the amount is negative, then Joe lost money.\n",
    "\n",
    "'''\n",
    "\n",
    "amount_buy = 40*2000\n",
    "commission_buy_time = amount_buy*0.03\n",
    "amount_sold = 42.75*2000\n",
    "profit = amount_sold-amount_buy\n",
    "commission_sell_time = profit*0.03\n",
    "\n",
    "remain = profit-commission_sell_time\n",
    "\n",
    "print(f\"Amount paid for stock: {amount_buy}\")\n",
    "print(f\"Amount of commission paid when buy: {commission_buy_time}\")\n",
    "print(f\"Amount get for stock: {amount_sold}\")\n",
    "print(f\"Amount of commission paid when sell: {abs(commission_sell_time)}\")\n",
    "\n",
    "# condition for checking profit or loss\n",
    "\n",
    "print(f\"Your profit is: Rs {remain}\") if remain > 0 else print(f\"Your loss is: Rs {abs(remain)}\")\n",
    "\n"
   ]
  }
 ],
 "metadata": {
  "kernelspec": {
   "display_name": "Python 3 (ipykernel)",
   "language": "python",
   "name": "python3"
  },
  "language_info": {
   "codemirror_mode": {
    "name": "ipython",
    "version": 3
   },
   "file_extension": ".py",
   "mimetype": "text/x-python",
   "name": "python",
   "nbconvert_exporter": "python",
   "pygments_lexer": "ipython3",
   "version": "3.12.3"
  }
 },
 "nbformat": 4,
 "nbformat_minor": 5
}
